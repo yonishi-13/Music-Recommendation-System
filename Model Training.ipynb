{
 "cells": [
  {
   "cell_type": "code",
   "execution_count": 1,
   "id": "e7f3b6c1",
   "metadata": {},
   "outputs": [],
   "source": [
    "import pandas as pd"
   ]
  },
  {
   "cell_type": "code",
   "execution_count": 2,
   "id": "58e62d63",
   "metadata": {},
   "outputs": [],
   "source": [
    "df = pd.read_csv('spotify_millsongdata.csv')"
   ]
  },
  {
   "cell_type": "code",
   "execution_count": 3,
   "id": "b8c8f7ef",
   "metadata": {},
   "outputs": [
    {
     "data": {
      "text/html": [
       "<div>\n",
       "<style scoped>\n",
       "    .dataframe tbody tr th:only-of-type {\n",
       "        vertical-align: middle;\n",
       "    }\n",
       "\n",
       "    .dataframe tbody tr th {\n",
       "        vertical-align: top;\n",
       "    }\n",
       "\n",
       "    .dataframe thead th {\n",
       "        text-align: right;\n",
       "    }\n",
       "</style>\n",
       "<table border=\"1\" class=\"dataframe\">\n",
       "  <thead>\n",
       "    <tr style=\"text-align: right;\">\n",
       "      <th></th>\n",
       "      <th>artist</th>\n",
       "      <th>song</th>\n",
       "      <th>link</th>\n",
       "      <th>text</th>\n",
       "    </tr>\n",
       "  </thead>\n",
       "  <tbody>\n",
       "    <tr>\n",
       "      <th>0</th>\n",
       "      <td>ABBA</td>\n",
       "      <td>Ahe's My Kind Of Girl</td>\n",
       "      <td>/a/abba/ahes+my+kind+of+girl_20598417.html</td>\n",
       "      <td>Look at her face, it's a wonderful face  \\r\\nA...</td>\n",
       "    </tr>\n",
       "    <tr>\n",
       "      <th>1</th>\n",
       "      <td>ABBA</td>\n",
       "      <td>Andante, Andante</td>\n",
       "      <td>/a/abba/andante+andante_20002708.html</td>\n",
       "      <td>Take it easy with me, please  \\r\\nTouch me gen...</td>\n",
       "    </tr>\n",
       "    <tr>\n",
       "      <th>2</th>\n",
       "      <td>ABBA</td>\n",
       "      <td>As Good As New</td>\n",
       "      <td>/a/abba/as+good+as+new_20003033.html</td>\n",
       "      <td>I'll never know why I had to go  \\r\\nWhy I had...</td>\n",
       "    </tr>\n",
       "    <tr>\n",
       "      <th>3</th>\n",
       "      <td>ABBA</td>\n",
       "      <td>Bang</td>\n",
       "      <td>/a/abba/bang_20598415.html</td>\n",
       "      <td>Making somebody happy is a question of give an...</td>\n",
       "    </tr>\n",
       "    <tr>\n",
       "      <th>4</th>\n",
       "      <td>ABBA</td>\n",
       "      <td>Bang-A-Boomerang</td>\n",
       "      <td>/a/abba/bang+a+boomerang_20002668.html</td>\n",
       "      <td>Making somebody happy is a question of give an...</td>\n",
       "    </tr>\n",
       "  </tbody>\n",
       "</table>\n",
       "</div>"
      ],
      "text/plain": [
       "  artist                   song                                        link  \\\n",
       "0   ABBA  Ahe's My Kind Of Girl  /a/abba/ahes+my+kind+of+girl_20598417.html   \n",
       "1   ABBA       Andante, Andante       /a/abba/andante+andante_20002708.html   \n",
       "2   ABBA         As Good As New        /a/abba/as+good+as+new_20003033.html   \n",
       "3   ABBA                   Bang                  /a/abba/bang_20598415.html   \n",
       "4   ABBA       Bang-A-Boomerang      /a/abba/bang+a+boomerang_20002668.html   \n",
       "\n",
       "                                                text  \n",
       "0  Look at her face, it's a wonderful face  \\r\\nA...  \n",
       "1  Take it easy with me, please  \\r\\nTouch me gen...  \n",
       "2  I'll never know why I had to go  \\r\\nWhy I had...  \n",
       "3  Making somebody happy is a question of give an...  \n",
       "4  Making somebody happy is a question of give an...  "
      ]
     },
     "execution_count": 3,
     "metadata": {},
     "output_type": "execute_result"
    }
   ],
   "source": [
    "df.head(5)"
   ]
  },
  {
   "cell_type": "code",
   "execution_count": 4,
   "id": "5a57e501",
   "metadata": {},
   "outputs": [
    {
     "data": {
      "text/html": [
       "<div>\n",
       "<style scoped>\n",
       "    .dataframe tbody tr th:only-of-type {\n",
       "        vertical-align: middle;\n",
       "    }\n",
       "\n",
       "    .dataframe tbody tr th {\n",
       "        vertical-align: top;\n",
       "    }\n",
       "\n",
       "    .dataframe thead th {\n",
       "        text-align: right;\n",
       "    }\n",
       "</style>\n",
       "<table border=\"1\" class=\"dataframe\">\n",
       "  <thead>\n",
       "    <tr style=\"text-align: right;\">\n",
       "      <th></th>\n",
       "      <th>artist</th>\n",
       "      <th>song</th>\n",
       "      <th>link</th>\n",
       "      <th>text</th>\n",
       "    </tr>\n",
       "  </thead>\n",
       "  <tbody>\n",
       "    <tr>\n",
       "      <th>57645</th>\n",
       "      <td>Ziggy Marley</td>\n",
       "      <td>Good Old Days</td>\n",
       "      <td>/z/ziggy+marley/good+old+days_10198588.html</td>\n",
       "      <td>Irie days come on play  \\r\\nLet the angels fly...</td>\n",
       "    </tr>\n",
       "    <tr>\n",
       "      <th>57646</th>\n",
       "      <td>Ziggy Marley</td>\n",
       "      <td>Hand To Mouth</td>\n",
       "      <td>/z/ziggy+marley/hand+to+mouth_20531167.html</td>\n",
       "      <td>Power to the workers  \\r\\nMore power  \\r\\nPowe...</td>\n",
       "    </tr>\n",
       "    <tr>\n",
       "      <th>57647</th>\n",
       "      <td>Zwan</td>\n",
       "      <td>Come With Me</td>\n",
       "      <td>/z/zwan/come+with+me_20148981.html</td>\n",
       "      <td>all you need  \\r\\nis something i'll believe  \\...</td>\n",
       "    </tr>\n",
       "    <tr>\n",
       "      <th>57648</th>\n",
       "      <td>Zwan</td>\n",
       "      <td>Desire</td>\n",
       "      <td>/z/zwan/desire_20148986.html</td>\n",
       "      <td>northern star  \\r\\nam i frightened  \\r\\nwhere ...</td>\n",
       "    </tr>\n",
       "    <tr>\n",
       "      <th>57649</th>\n",
       "      <td>Zwan</td>\n",
       "      <td>Heartsong</td>\n",
       "      <td>/z/zwan/heartsong_20148991.html</td>\n",
       "      <td>come in  \\r\\nmake yourself at home  \\r\\ni'm a ...</td>\n",
       "    </tr>\n",
       "  </tbody>\n",
       "</table>\n",
       "</div>"
      ],
      "text/plain": [
       "             artist           song  \\\n",
       "57645  Ziggy Marley  Good Old Days   \n",
       "57646  Ziggy Marley  Hand To Mouth   \n",
       "57647          Zwan   Come With Me   \n",
       "57648          Zwan         Desire   \n",
       "57649          Zwan      Heartsong   \n",
       "\n",
       "                                              link  \\\n",
       "57645  /z/ziggy+marley/good+old+days_10198588.html   \n",
       "57646  /z/ziggy+marley/hand+to+mouth_20531167.html   \n",
       "57647           /z/zwan/come+with+me_20148981.html   \n",
       "57648                 /z/zwan/desire_20148986.html   \n",
       "57649              /z/zwan/heartsong_20148991.html   \n",
       "\n",
       "                                                    text  \n",
       "57645  Irie days come on play  \\r\\nLet the angels fly...  \n",
       "57646  Power to the workers  \\r\\nMore power  \\r\\nPowe...  \n",
       "57647  all you need  \\r\\nis something i'll believe  \\...  \n",
       "57648  northern star  \\r\\nam i frightened  \\r\\nwhere ...  \n",
       "57649  come in  \\r\\nmake yourself at home  \\r\\ni'm a ...  "
      ]
     },
     "execution_count": 4,
     "metadata": {},
     "output_type": "execute_result"
    }
   ],
   "source": [
    "df.tail(5)"
   ]
  },
  {
   "cell_type": "code",
   "execution_count": 5,
   "id": "a113c4a7",
   "metadata": {},
   "outputs": [
    {
     "data": {
      "text/plain": [
       "(57650, 4)"
      ]
     },
     "execution_count": 5,
     "metadata": {},
     "output_type": "execute_result"
    }
   ],
   "source": [
    "df.shape"
   ]
  },
  {
   "cell_type": "code",
   "execution_count": 6,
   "id": "facfdc2d",
   "metadata": {},
   "outputs": [
    {
     "data": {
      "text/plain": [
       "artist    0\n",
       "song      0\n",
       "link      0\n",
       "text      0\n",
       "dtype: int64"
      ]
     },
     "execution_count": 6,
     "metadata": {},
     "output_type": "execute_result"
    }
   ],
   "source": [
    "df.isnull().sum()"
   ]
  },
  {
   "cell_type": "code",
   "execution_count": 7,
   "id": "edfce372",
   "metadata": {},
   "outputs": [],
   "source": [
    "df = df.sample(5000).drop('link',axis = 1).reset_index(drop = True)"
   ]
  },
  {
   "cell_type": "code",
   "execution_count": 8,
   "id": "c433e451",
   "metadata": {},
   "outputs": [
    {
     "data": {
      "text/html": [
       "<div>\n",
       "<style scoped>\n",
       "    .dataframe tbody tr th:only-of-type {\n",
       "        vertical-align: middle;\n",
       "    }\n",
       "\n",
       "    .dataframe tbody tr th {\n",
       "        vertical-align: top;\n",
       "    }\n",
       "\n",
       "    .dataframe thead th {\n",
       "        text-align: right;\n",
       "    }\n",
       "</style>\n",
       "<table border=\"1\" class=\"dataframe\">\n",
       "  <thead>\n",
       "    <tr style=\"text-align: right;\">\n",
       "      <th></th>\n",
       "      <th>artist</th>\n",
       "      <th>song</th>\n",
       "      <th>text</th>\n",
       "    </tr>\n",
       "  </thead>\n",
       "  <tbody>\n",
       "    <tr>\n",
       "      <th>0</th>\n",
       "      <td>Rascal Flatts</td>\n",
       "      <td>Love You Out Loud</td>\n",
       "      <td>I have always been a little shy  \\r\\nI've alwa...</td>\n",
       "    </tr>\n",
       "    <tr>\n",
       "      <th>1</th>\n",
       "      <td>Kris Kristofferson</td>\n",
       "      <td>We Must Have Been Out Of Our Minds</td>\n",
       "      <td>We said our goodbyes long ago never thinking w...</td>\n",
       "    </tr>\n",
       "    <tr>\n",
       "      <th>2</th>\n",
       "      <td>Bee Gees</td>\n",
       "      <td>Guilty</td>\n",
       "      <td>Pulse's racing, darling,  \\r\\nHow grand we are...</td>\n",
       "    </tr>\n",
       "    <tr>\n",
       "      <th>3</th>\n",
       "      <td>Modern Talking</td>\n",
       "      <td>Walking In The Rain Of Paris</td>\n",
       "      <td>Oh baby I tell I never say never (ce soir, ce ...</td>\n",
       "    </tr>\n",
       "    <tr>\n",
       "      <th>4</th>\n",
       "      <td>Devo</td>\n",
       "      <td>That's Good</td>\n",
       "      <td>Everybody it's a good thing  \\r\\nEverybody wan...</td>\n",
       "    </tr>\n",
       "    <tr>\n",
       "      <th>5</th>\n",
       "      <td>Yeng Constantino</td>\n",
       "      <td>Just Can't Say</td>\n",
       "      <td>It?s not that I think you would know  \\r\\nI ju...</td>\n",
       "    </tr>\n",
       "    <tr>\n",
       "      <th>6</th>\n",
       "      <td>Bob Dylan</td>\n",
       "      <td>Father Of Night</td>\n",
       "      <td>Father of night, Father of day,  \\r\\nFather, w...</td>\n",
       "    </tr>\n",
       "    <tr>\n",
       "      <th>7</th>\n",
       "      <td>Elton John</td>\n",
       "      <td>Hymn 2000</td>\n",
       "      <td>She chose the soft center  \\r\\nAnd took it to ...</td>\n",
       "    </tr>\n",
       "    <tr>\n",
       "      <th>8</th>\n",
       "      <td>Point Of Grace</td>\n",
       "      <td>Worthless</td>\n",
       "      <td>I woke up today with a revelation  \\r\\nAn intr...</td>\n",
       "    </tr>\n",
       "    <tr>\n",
       "      <th>9</th>\n",
       "      <td>Annie</td>\n",
       "      <td>Come Together</td>\n",
       "      <td>(verse)  \\r\\nLook into yourself and see  \\r\\nD...</td>\n",
       "    </tr>\n",
       "  </tbody>\n",
       "</table>\n",
       "</div>"
      ],
      "text/plain": [
       "               artist                                song  \\\n",
       "0       Rascal Flatts                   Love You Out Loud   \n",
       "1  Kris Kristofferson  We Must Have Been Out Of Our Minds   \n",
       "2            Bee Gees                              Guilty   \n",
       "3      Modern Talking        Walking In The Rain Of Paris   \n",
       "4                Devo                         That's Good   \n",
       "5    Yeng Constantino                      Just Can't Say   \n",
       "6           Bob Dylan                     Father Of Night   \n",
       "7          Elton John                           Hymn 2000   \n",
       "8      Point Of Grace                           Worthless   \n",
       "9               Annie                       Come Together   \n",
       "\n",
       "                                                text  \n",
       "0  I have always been a little shy  \\r\\nI've alwa...  \n",
       "1  We said our goodbyes long ago never thinking w...  \n",
       "2  Pulse's racing, darling,  \\r\\nHow grand we are...  \n",
       "3  Oh baby I tell I never say never (ce soir, ce ...  \n",
       "4  Everybody it's a good thing  \\r\\nEverybody wan...  \n",
       "5  It?s not that I think you would know  \\r\\nI ju...  \n",
       "6  Father of night, Father of day,  \\r\\nFather, w...  \n",
       "7  She chose the soft center  \\r\\nAnd took it to ...  \n",
       "8  I woke up today with a revelation  \\r\\nAn intr...  \n",
       "9  (verse)  \\r\\nLook into yourself and see  \\r\\nD...  "
      ]
     },
     "execution_count": 8,
     "metadata": {},
     "output_type": "execute_result"
    }
   ],
   "source": [
    "df.head(10)"
   ]
  },
  {
   "cell_type": "code",
   "execution_count": 9,
   "id": "d27a49d2",
   "metadata": {},
   "outputs": [
    {
     "data": {
      "text/plain": [
       "\"I have always been a little shy  \\r\\nI've always been the quiet type till now  \\r\\nAnd I never let my feelings show  \\r\\nI never let anybody know  \\r\\nJust how much I was so deep in love  \\r\\nBut now that you're in my arms  \\r\\n  \\r\\nI'm gonna stand on a rooftop, climb up a mountaintop  \\r\\nBaby, scream and shout  \\r\\nI want to sing it on the radio, show it on a video  \\r\\nBaby, leave no doubt  \\r\\nI want the whole world to know just what I'm all about  \\r\\nI love to love you out loud  \\r\\n  \\r\\nYou keep bringing out the free in me  \\r\\nWhat you do to my heart just makes me melt  \\r\\nAnd I don't think I can resist  \\r\\nBut I've never been one to kiss and tell  \\r\\nA love this true can't be subdued  \\r\\nSo I'm gonna let out a yell  \\r\\n  \\r\\nI'm gonna stand on a rooftop, climb up a mountaintop  \\r\\nBaby, scream and shout  \\r\\nI want to sing it on the radio, show it on a video  \\r\\nBaby, leave no doubt  \\r\\nI want the whole world to know just what I'm all about  \\r\\nI love to love you out loud  \\r\\n  \\r\\nBaby, I want the whole world to see  \\r\\nJust how good your love looks on me  \\r\\n  \\r\\nI'm gonna stand on a rooftop, climb up a mountaintop  \\r\\nBaby, scream and shout  \\r\\nI want to sing it on the radio, show it on a video  \\r\\nBaby, leave no doubt  \\r\\nI want the whole world to know just what I'm all about  \\r\\nI love to love you out loud  \\r\\n  \\r\\nBaby, I love to love you out loud  \\r\\nYeah, I love to love you out loud\\r\\n\\r\\n\""
      ]
     },
     "execution_count": 9,
     "metadata": {},
     "output_type": "execute_result"
    }
   ],
   "source": [
    "df['text'][0]"
   ]
  },
  {
   "cell_type": "code",
   "execution_count": 10,
   "id": "4372877e",
   "metadata": {},
   "outputs": [
    {
     "data": {
      "text/html": [
       "<div>\n",
       "<style scoped>\n",
       "    .dataframe tbody tr th:only-of-type {\n",
       "        vertical-align: middle;\n",
       "    }\n",
       "\n",
       "    .dataframe tbody tr th {\n",
       "        vertical-align: top;\n",
       "    }\n",
       "\n",
       "    .dataframe thead th {\n",
       "        text-align: right;\n",
       "    }\n",
       "</style>\n",
       "<table border=\"1\" class=\"dataframe\">\n",
       "  <thead>\n",
       "    <tr style=\"text-align: right;\">\n",
       "      <th></th>\n",
       "      <th>artist</th>\n",
       "      <th>song</th>\n",
       "      <th>text</th>\n",
       "    </tr>\n",
       "  </thead>\n",
       "  <tbody>\n",
       "    <tr>\n",
       "      <th>721</th>\n",
       "      <td>Warren Zevon</td>\n",
       "      <td>Sacrificial Lambs</td>\n",
       "      <td>We're having a party  \\r\\nWe're burning it dow...</td>\n",
       "    </tr>\n",
       "    <tr>\n",
       "      <th>342</th>\n",
       "      <td>Queen Latifah</td>\n",
       "      <td>The Pros</td>\n",
       "      <td>I stepped into a basement party in Brooklyn  \\...</td>\n",
       "    </tr>\n",
       "    <tr>\n",
       "      <th>1882</th>\n",
       "      <td>Jackson Browne</td>\n",
       "      <td>Lives In The Balance</td>\n",
       "      <td>I've been waiting for something to happen  \\r\\...</td>\n",
       "    </tr>\n",
       "    <tr>\n",
       "      <th>2475</th>\n",
       "      <td>Eric Clapton</td>\n",
       "      <td>It Ain't Right</td>\n",
       "      <td>You know it ain't right just to treat me this ...</td>\n",
       "    </tr>\n",
       "    <tr>\n",
       "      <th>854</th>\n",
       "      <td>Zox</td>\n",
       "      <td>Little More Time</td>\n",
       "      <td>Give me just a little more time,  \\r\\nMaybe we...</td>\n",
       "    </tr>\n",
       "    <tr>\n",
       "      <th>...</th>\n",
       "      <td>...</td>\n",
       "      <td>...</td>\n",
       "      <td>...</td>\n",
       "    </tr>\n",
       "    <tr>\n",
       "      <th>4155</th>\n",
       "      <td>Cher</td>\n",
       "      <td>Here Comes That Rainy Day Feeling Again</td>\n",
       "      <td>Here comes that rainy day feeling again  \\r\\nW...</td>\n",
       "    </tr>\n",
       "    <tr>\n",
       "      <th>575</th>\n",
       "      <td>Iron Maiden</td>\n",
       "      <td>The Prophecy</td>\n",
       "      <td>Now that I know that the right time has come  ...</td>\n",
       "    </tr>\n",
       "    <tr>\n",
       "      <th>3033</th>\n",
       "      <td>Lou Reed</td>\n",
       "      <td>Soul Man</td>\n",
       "      <td>(written by Isaac Hayes - David Porter)  \\r\\n ...</td>\n",
       "    </tr>\n",
       "    <tr>\n",
       "      <th>1500</th>\n",
       "      <td>Red Hot Chili Peppers</td>\n",
       "      <td>Deck The Halls</td>\n",
       "      <td>Anything we should know about your change?  \\r...</td>\n",
       "    </tr>\n",
       "    <tr>\n",
       "      <th>140</th>\n",
       "      <td>Selah</td>\n",
       "      <td>Mary Sweet Mary</td>\n",
       "      <td>Mary, sweet Mary, your heart overflows  \\r\\nDe...</td>\n",
       "    </tr>\n",
       "  </tbody>\n",
       "</table>\n",
       "<p>5000 rows × 3 columns</p>\n",
       "</div>"
      ],
      "text/plain": [
       "                     artist                                     song  \\\n",
       "721            Warren Zevon                        Sacrificial Lambs   \n",
       "342           Queen Latifah                                 The Pros   \n",
       "1882         Jackson Browne                     Lives In The Balance   \n",
       "2475           Eric Clapton                           It Ain't Right   \n",
       "854                     Zox                         Little More Time   \n",
       "...                     ...                                      ...   \n",
       "4155                   Cher  Here Comes That Rainy Day Feeling Again   \n",
       "575             Iron Maiden                             The Prophecy   \n",
       "3033               Lou Reed                                 Soul Man   \n",
       "1500  Red Hot Chili Peppers                           Deck The Halls   \n",
       "140                   Selah                          Mary Sweet Mary   \n",
       "\n",
       "                                                   text  \n",
       "721   We're having a party  \\r\\nWe're burning it dow...  \n",
       "342   I stepped into a basement party in Brooklyn  \\...  \n",
       "1882  I've been waiting for something to happen  \\r\\...  \n",
       "2475  You know it ain't right just to treat me this ...  \n",
       "854   Give me just a little more time,  \\r\\nMaybe we...  \n",
       "...                                                 ...  \n",
       "4155  Here comes that rainy day feeling again  \\r\\nW...  \n",
       "575   Now that I know that the right time has come  ...  \n",
       "3033  (written by Isaac Hayes - David Porter)  \\r\\n ...  \n",
       "1500  Anything we should know about your change?  \\r...  \n",
       "140   Mary, sweet Mary, your heart overflows  \\r\\nDe...  \n",
       "\n",
       "[5000 rows x 3 columns]"
      ]
     },
     "execution_count": 10,
     "metadata": {},
     "output_type": "execute_result"
    }
   ],
   "source": [
    "df.sample(5000)"
   ]
  },
  {
   "cell_type": "code",
   "execution_count": 11,
   "id": "4e52e2a9",
   "metadata": {},
   "outputs": [
    {
     "data": {
      "text/html": [
       "<div>\n",
       "<style scoped>\n",
       "    .dataframe tbody tr th:only-of-type {\n",
       "        vertical-align: middle;\n",
       "    }\n",
       "\n",
       "    .dataframe tbody tr th {\n",
       "        vertical-align: top;\n",
       "    }\n",
       "\n",
       "    .dataframe thead th {\n",
       "        text-align: right;\n",
       "    }\n",
       "</style>\n",
       "<table border=\"1\" class=\"dataframe\">\n",
       "  <thead>\n",
       "    <tr style=\"text-align: right;\">\n",
       "      <th></th>\n",
       "      <th>artist</th>\n",
       "      <th>song</th>\n",
       "      <th>text</th>\n",
       "    </tr>\n",
       "  </thead>\n",
       "  <tbody>\n",
       "    <tr>\n",
       "      <th>4995</th>\n",
       "      <td>Tom T. Hall</td>\n",
       "      <td>Running Wild</td>\n",
       "      <td>In the shadow of the saddle, running wild and ...</td>\n",
       "    </tr>\n",
       "    <tr>\n",
       "      <th>4996</th>\n",
       "      <td>Janis Joplin</td>\n",
       "      <td>River Jordan</td>\n",
       "      <td>I'm goin' down to the river jordan  \\r\\nI'm go...</td>\n",
       "    </tr>\n",
       "    <tr>\n",
       "      <th>4997</th>\n",
       "      <td>Aerosmith</td>\n",
       "      <td>Black Cherry</td>\n",
       "      <td>It be night time when shadows fade  \\r\\nShe wa...</td>\n",
       "    </tr>\n",
       "    <tr>\n",
       "      <th>4998</th>\n",
       "      <td>Pogues</td>\n",
       "      <td>Navigator</td>\n",
       "      <td>The canals and the bridges, the embankments an...</td>\n",
       "    </tr>\n",
       "    <tr>\n",
       "      <th>4999</th>\n",
       "      <td>Glee</td>\n",
       "      <td>I Can't Go For That</td>\n",
       "      <td>What I want, you've got  \\r\\nIt might be hard ...</td>\n",
       "    </tr>\n",
       "  </tbody>\n",
       "</table>\n",
       "</div>"
      ],
      "text/plain": [
       "            artist                 song  \\\n",
       "4995   Tom T. Hall         Running Wild   \n",
       "4996  Janis Joplin         River Jordan   \n",
       "4997     Aerosmith         Black Cherry   \n",
       "4998        Pogues            Navigator   \n",
       "4999          Glee  I Can't Go For That   \n",
       "\n",
       "                                                   text  \n",
       "4995  In the shadow of the saddle, running wild and ...  \n",
       "4996  I'm goin' down to the river jordan  \\r\\nI'm go...  \n",
       "4997  It be night time when shadows fade  \\r\\nShe wa...  \n",
       "4998  The canals and the bridges, the embankments an...  \n",
       "4999  What I want, you've got  \\r\\nIt might be hard ...  "
      ]
     },
     "execution_count": 11,
     "metadata": {},
     "output_type": "execute_result"
    }
   ],
   "source": [
    "df.tail(5)"
   ]
  },
  {
   "cell_type": "code",
   "execution_count": 12,
   "id": "ddc44a04",
   "metadata": {},
   "outputs": [],
   "source": [
    "df = df.sample(5000)"
   ]
  },
  {
   "cell_type": "code",
   "execution_count": 13,
   "id": "9d695305",
   "metadata": {},
   "outputs": [
    {
     "data": {
      "text/plain": [
       "(5000, 3)"
      ]
     },
     "execution_count": 13,
     "metadata": {},
     "output_type": "execute_result"
    }
   ],
   "source": [
    "df.shape"
   ]
  },
  {
   "cell_type": "markdown",
   "id": "6eb8148c",
   "metadata": {},
   "source": [
    "## Text Cleaning/ Preprocessing"
   ]
  },
  {
   "cell_type": "code",
   "execution_count": 14,
   "id": "d1717c5c",
   "metadata": {},
   "outputs": [],
   "source": [
    "df['text'] = df['text'].str.lower().replace(r'^\\w\\s',' ').replace(r'\\n',' ',regex = True)"
   ]
  },
  {
   "cell_type": "code",
   "execution_count": 15,
   "id": "51d8f8ad",
   "metadata": {},
   "outputs": [],
   "source": [
    "# Tokenization, Vectorization, Cosine Similarity. Content - Based System(Tag Based)"
   ]
  },
  {
   "cell_type": "code",
   "execution_count": 16,
   "id": "ff747ca8",
   "metadata": {},
   "outputs": [
    {
     "data": {
      "text/html": [
       "<div>\n",
       "<style scoped>\n",
       "    .dataframe tbody tr th:only-of-type {\n",
       "        vertical-align: middle;\n",
       "    }\n",
       "\n",
       "    .dataframe tbody tr th {\n",
       "        vertical-align: top;\n",
       "    }\n",
       "\n",
       "    .dataframe thead th {\n",
       "        text-align: right;\n",
       "    }\n",
       "</style>\n",
       "<table border=\"1\" class=\"dataframe\">\n",
       "  <thead>\n",
       "    <tr style=\"text-align: right;\">\n",
       "      <th></th>\n",
       "      <th>artist</th>\n",
       "      <th>song</th>\n",
       "      <th>text</th>\n",
       "    </tr>\n",
       "  </thead>\n",
       "  <tbody>\n",
       "    <tr>\n",
       "      <th>1703</th>\n",
       "      <td>Kenny Rogers</td>\n",
       "      <td>Hard Candy Christmas</td>\n",
       "      <td>hey, maybe i'll dye my hair  \\r maybe i'll mov...</td>\n",
       "    </tr>\n",
       "    <tr>\n",
       "      <th>1133</th>\n",
       "      <td>Etta James</td>\n",
       "      <td>If I Can't Have You</td>\n",
       "      <td>i don't want nobody  \\r if i can't have you  \\...</td>\n",
       "    </tr>\n",
       "    <tr>\n",
       "      <th>4536</th>\n",
       "      <td>Pearl Jam</td>\n",
       "      <td>Rearviewmirror</td>\n",
       "      <td>i took a drive today  \\r time to emancipate  \\...</td>\n",
       "    </tr>\n",
       "    <tr>\n",
       "      <th>2847</th>\n",
       "      <td>Devo</td>\n",
       "      <td>Are You Experienced?</td>\n",
       "      <td>if you could just get your mind together  \\r t...</td>\n",
       "    </tr>\n",
       "    <tr>\n",
       "      <th>397</th>\n",
       "      <td>Phish</td>\n",
       "      <td>Discern</td>\n",
       "      <td>the sound of flying swiftly, which makes it ha...</td>\n",
       "    </tr>\n",
       "    <tr>\n",
       "      <th>...</th>\n",
       "      <td>...</td>\n",
       "      <td>...</td>\n",
       "      <td>...</td>\n",
       "    </tr>\n",
       "    <tr>\n",
       "      <th>4684</th>\n",
       "      <td>Glee</td>\n",
       "      <td>Fighter</td>\n",
       "      <td>after all that you put me through,  \\r you thi...</td>\n",
       "    </tr>\n",
       "    <tr>\n",
       "      <th>2704</th>\n",
       "      <td>Green Day</td>\n",
       "      <td>86</td>\n",
       "      <td>what brings you around?  \\r did you lose somet...</td>\n",
       "    </tr>\n",
       "    <tr>\n",
       "      <th>109</th>\n",
       "      <td>Hillsong United</td>\n",
       "      <td>All Day</td>\n",
       "      <td>i don't care what they say about me  \\r it's a...</td>\n",
       "    </tr>\n",
       "    <tr>\n",
       "      <th>1158</th>\n",
       "      <td>Red Hot Chili Peppers</td>\n",
       "      <td>Let's Make Evil</td>\n",
       "      <td>let's make evil  \\r let's make good  \\r i'd do...</td>\n",
       "    </tr>\n",
       "    <tr>\n",
       "      <th>1053</th>\n",
       "      <td>Israel Houghton</td>\n",
       "      <td>Hosanna</td>\n",
       "      <td>chorus 1  \\r hosanna in the highest  \\r let ou...</td>\n",
       "    </tr>\n",
       "  </tbody>\n",
       "</table>\n",
       "<p>5000 rows × 3 columns</p>\n",
       "</div>"
      ],
      "text/plain": [
       "                     artist                  song  \\\n",
       "1703           Kenny Rogers  Hard Candy Christmas   \n",
       "1133             Etta James   If I Can't Have You   \n",
       "4536              Pearl Jam        Rearviewmirror   \n",
       "2847                   Devo  Are You Experienced?   \n",
       "397                   Phish               Discern   \n",
       "...                     ...                   ...   \n",
       "4684                   Glee               Fighter   \n",
       "2704              Green Day                    86   \n",
       "109         Hillsong United               All Day   \n",
       "1158  Red Hot Chili Peppers       Let's Make Evil   \n",
       "1053        Israel Houghton               Hosanna   \n",
       "\n",
       "                                                   text  \n",
       "1703  hey, maybe i'll dye my hair  \\r maybe i'll mov...  \n",
       "1133  i don't want nobody  \\r if i can't have you  \\...  \n",
       "4536  i took a drive today  \\r time to emancipate  \\...  \n",
       "2847  if you could just get your mind together  \\r t...  \n",
       "397   the sound of flying swiftly, which makes it ha...  \n",
       "...                                                 ...  \n",
       "4684  after all that you put me through,  \\r you thi...  \n",
       "2704  what brings you around?  \\r did you lose somet...  \n",
       "109   i don't care what they say about me  \\r it's a...  \n",
       "1158  let's make evil  \\r let's make good  \\r i'd do...  \n",
       "1053  chorus 1  \\r hosanna in the highest  \\r let ou...  \n",
       "\n",
       "[5000 rows x 3 columns]"
      ]
     },
     "execution_count": 16,
     "metadata": {},
     "output_type": "execute_result"
    }
   ],
   "source": [
    "df"
   ]
  },
  {
   "cell_type": "code",
   "execution_count": 17,
   "id": "a298b198",
   "metadata": {},
   "outputs": [
    {
     "name": "stderr",
     "output_type": "stream",
     "text": [
      "[nltk_data] Downloading package punkt to\n",
      "[nltk_data]     C:\\Users\\MITALI\\AppData\\Roaming\\nltk_data...\n",
      "[nltk_data]   Package punkt is already up-to-date!\n"
     ]
    }
   ],
   "source": [
    "import nltk\n",
    "nltk.download('punkt')\n",
    "from nltk.stem.porter import PorterStemmer"
   ]
  },
  {
   "cell_type": "code",
   "execution_count": 18,
   "id": "df2cea18",
   "metadata": {},
   "outputs": [],
   "source": [
    "stemmer = PorterStemmer()"
   ]
  },
  {
   "cell_type": "code",
   "execution_count": 19,
   "id": "0b2bed2f",
   "metadata": {},
   "outputs": [],
   "source": [
    "def token(txt):\n",
    "    token = nltk.word_tokenize(txt)\n",
    "    a = [stemmer.stem(w) for w in token]\n",
    "    return \" \".join(a)"
   ]
  },
  {
   "cell_type": "code",
   "execution_count": 20,
   "id": "9140a717",
   "metadata": {
    "scrolled": true
   },
   "outputs": [
    {
     "data": {
      "text/plain": [
       "'you are beauti , beauti'"
      ]
     },
     "execution_count": 20,
     "metadata": {},
     "output_type": "execute_result"
    }
   ],
   "source": [
    "token(\"you are beautiful, beauty\")"
   ]
  },
  {
   "cell_type": "code",
   "execution_count": 21,
   "id": "e6c67c85",
   "metadata": {},
   "outputs": [
    {
     "data": {
      "text/plain": [
       "1703    hey , mayb i 'll dye my hair mayb i 'll move s...\n",
       "1133    i do n't want nobodi if i ca n't have you oh ,...\n",
       "4536    i took a drive today time to emancip i guess i...\n",
       "2847    if you could just get your mind togeth then co...\n",
       "397     the sound of fli swiftli , which make it hard ...\n",
       "                              ...                        \n",
       "4684    after all that you put me through , you think ...\n",
       "2704    what bring you around ? did you lose someth th...\n",
       "109     i do n't care what they say about me it 's all...\n",
       "1158    let 's make evil let 's make good i 'd do anyt...\n",
       "1053    choru 1 hosanna in the highest let our king be...\n",
       "Name: text, Length: 5000, dtype: object"
      ]
     },
     "execution_count": 21,
     "metadata": {},
     "output_type": "execute_result"
    }
   ],
   "source": [
    "df['text'].apply(lambda x:token(x))"
   ]
  },
  {
   "cell_type": "code",
   "execution_count": 22,
   "id": "77b45375",
   "metadata": {},
   "outputs": [],
   "source": [
    "from sklearn.feature_extraction.text import TfidfVectorizer\n",
    "from sklearn.metrics.pairwise import cosine_similarity\n"
   ]
  },
  {
   "cell_type": "code",
   "execution_count": 23,
   "id": "b6fc697c",
   "metadata": {},
   "outputs": [],
   "source": [
    "tfid = TfidfVectorizer(analyzer='word', stop_words='english')"
   ]
  },
  {
   "cell_type": "code",
   "execution_count": 24,
   "id": "db22a76c",
   "metadata": {},
   "outputs": [],
   "source": [
    "matrix = tfid.fit_transform(df['text'])"
   ]
  },
  {
   "cell_type": "code",
   "execution_count": 25,
   "id": "f0bea42e",
   "metadata": {},
   "outputs": [],
   "source": [
    "similar = cosine_similarity(matrix)"
   ]
  },
  {
   "cell_type": "code",
   "execution_count": 26,
   "id": "e0a32736",
   "metadata": {},
   "outputs": [
    {
     "data": {
      "text/plain": [
       "array([1.        , 0.03686753, 0.00887977, ..., 0.07847636, 0.0633778 ,\n",
       "       0.0120278 ])"
      ]
     },
     "execution_count": 26,
     "metadata": {},
     "output_type": "execute_result"
    }
   ],
   "source": [
    "similar[0]"
   ]
  },
  {
   "cell_type": "markdown",
   "id": "602e2f7e",
   "metadata": {},
   "source": [
    "Recommender function"
   ]
  },
  {
   "cell_type": "code",
   "execution_count": 27,
   "id": "a844423b",
   "metadata": {},
   "outputs": [],
   "source": [
    "def recommender(song_name):\n",
    "    idx = df[df['song'] == song_name].index[0]\n",
    "    distance = sorted(list(enumerate(similar[idx])), reverse = True, key = lambda x:x[1])\n",
    "    song = []\n",
    "    for s_id in distance[1:5]:\n",
    "        song.append(df.iloc[s_id[0]].song)\n",
    "    return song"
   ]
  },
  {
   "cell_type": "code",
   "execution_count": 28,
   "id": "a805df38",
   "metadata": {},
   "outputs": [],
   "source": [
    "import pickle"
   ]
  },
  {
   "cell_type": "code",
   "execution_count": 29,
   "id": "1b3be8fa",
   "metadata": {},
   "outputs": [],
   "source": [
    "pickle.dump(similar, open(\"similarity\",\"wb\"))"
   ]
  },
  {
   "cell_type": "code",
   "execution_count": 30,
   "id": "f29fd675",
   "metadata": {},
   "outputs": [],
   "source": [
    "pickle.dump(df,open(\"df\",\"wb\"))"
   ]
  },
  {
   "cell_type": "code",
   "execution_count": null,
   "id": "81654025",
   "metadata": {},
   "outputs": [],
   "source": []
  }
 ],
 "metadata": {
  "kernelspec": {
   "display_name": "Python 3 (ipykernel)",
   "language": "python",
   "name": "python3"
  },
  "language_info": {
   "codemirror_mode": {
    "name": "ipython",
    "version": 3
   },
   "file_extension": ".py",
   "mimetype": "text/x-python",
   "name": "python",
   "nbconvert_exporter": "python",
   "pygments_lexer": "ipython3",
   "version": "3.12.1"
  }
 },
 "nbformat": 4,
 "nbformat_minor": 5
}
